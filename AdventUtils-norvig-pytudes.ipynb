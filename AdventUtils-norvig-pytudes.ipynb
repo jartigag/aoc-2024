{
 "cells": [
  {
   "cell_type": "markdown",
   "metadata": {},
   "source": [
    "<div style=\"text-align: right\" align=\"right\"><i>Peter Norvig<br>Decembers 2016–2023</i></div>\n",
    "\n",
    "# Advent of Code Utilities\n",
    "\n",
    "Extracted from [AdventUtils.ipynb](https://github.com/norvig/pytudes/blob/main/ipynb/AdventUtils.ipynb) into [AdventUtils_norvig_pytudes.py](AdventUtils_norvig_pytudes.py)."
   ]
  }
 ],
 "metadata": {
  "kernelspec": {
   "display_name": "Python 3",
   "language": "python",
   "name": "python3"
  },
  "language_info": {
   "codemirror_mode": {
    "name": "ipython",
    "version": 3
   },
   "file_extension": ".py",
   "mimetype": "text/x-python",
   "name": "python",
   "nbconvert_exporter": "python",
   "pygments_lexer": "ipython3",
   "version": "3.10.0"
  }
 },
 "nbformat": 4,
 "nbformat_minor": 4
}
